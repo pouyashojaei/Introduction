{
 "cells": [
  {
   "cell_type": "code",
   "execution_count": 6,
   "metadata": {},
   "outputs": [
    {
     "name": "stdout",
     "output_type": "stream",
     "text": [
      "Hi\n",
      "My Name is Pouya Shojaei!\n",
      "I am a Ph.D. candidate in Mechanical Engineering at UNLV.\n",
      "I am going to graduate in Fall 2021.\n",
      "I would like to get a job as a Data Scientist in NASA, Apple, Amazon, or Facebook.\n"
     ]
    }
   ],
   "source": [
    "with open('C:\\\\Users\\\\pouya\\\\Coursera\\\\Python for Data Science, AI & Development\\\\Week 4\\\\Bio.txt','r') as File1:\n",
    "    file_stuff = File1.read()\n",
    "    print(file_stuff)"
   ]
  },
  {
   "cell_type": "code",
   "execution_count": 5,
   "metadata": {},
   "outputs": [
    {
     "data": {
      "text/plain": [
       "'C:\\\\Users\\\\pouya\\\\Coursera\\\\Python for Data Science, AI & Development\\\\Week 4'"
      ]
     },
     "execution_count": 5,
     "metadata": {},
     "output_type": "execute_result"
    }
   ],
   "source": [
    "pwd"
   ]
  },
  {
   "cell_type": "code",
   "execution_count": 7,
   "metadata": {},
   "outputs": [
    {
     "name": "stdout",
     "output_type": "stream",
     "text": [
      "True\n"
     ]
    }
   ],
   "source": [
    "print(File1.closed)"
   ]
  },
  {
   "cell_type": "code",
   "execution_count": 8,
   "metadata": {},
   "outputs": [
    {
     "name": "stdout",
     "output_type": "stream",
     "text": [
      "Hi\n",
      "My Name is Pouya Shojaei!\n",
      "I am a Ph.D. candidate in Mechanical Engineering at UNLV.\n",
      "I am going to graduate in Fall 2021.\n",
      "I would like to get a job as a Data Scientist in NASA, Apple, Amazon, or Facebook.\n"
     ]
    }
   ],
   "source": [
    "print(file_stuff)"
   ]
  },
  {
   "cell_type": "code",
   "execution_count": 30,
   "metadata": {},
   "outputs": [
    {
     "name": "stdout",
     "output_type": "stream",
     "text": [
      "5\n"
     ]
    }
   ],
   "source": [
    "line_count= file_stuff.count('\\n')+1\n",
    "print(line_count)"
   ]
  },
  {
   "cell_type": "code",
   "execution_count": 32,
   "metadata": {},
   "outputs": [
    {
     "data": {
      "text/plain": [
       "True"
      ]
     },
     "execution_count": 32,
     "metadata": {},
     "output_type": "execute_result"
    }
   ],
   "source": [
    "File1.closed"
   ]
  },
  {
   "cell_type": "code",
   "execution_count": 36,
   "metadata": {},
   "outputs": [
    {
     "name": "stdout",
     "output_type": "stream",
     "text": [
      "40\n",
      "<_io.TextIOWrapper name='C:\\\\Users\\\\pouya\\\\Coursera\\\\Python for Data Science, AI & Development\\\\Week 4\\\\Bio.txt' mode='w' encoding='cp1252'>\n"
     ]
    }
   ],
   "source": [
    "with open('C:\\\\Users\\\\pouya\\\\Coursera\\\\Python for Data Science, AI & Development\\\\Week 4\\\\Bio.txt','w') as File2:\n",
    "    file2_stuff = File2.write('\\nThis was a brief introduction about me!')\n",
    "print(file2_stuff)\n",
    "print(File2)\n",
    "    "
   ]
  },
  {
   "cell_type": "code",
   "execution_count": 37,
   "metadata": {},
   "outputs": [
    {
     "data": {
      "text/plain": [
       "True"
      ]
     },
     "execution_count": 37,
     "metadata": {},
     "output_type": "execute_result"
    }
   ],
   "source": [
    "File2.closed"
   ]
  },
  {
   "cell_type": "code",
   "execution_count": 48,
   "metadata": {},
   "outputs": [
    {
     "data": {
      "text/plain": [
       "True"
      ]
     },
     "execution_count": 48,
     "metadata": {},
     "output_type": "execute_result"
    }
   ],
   "source": [
    "with open('C:\\\\Users\\\\pouya\\\\Coursera\\\\Python for Data Science, AI & Development\\\\Week 4\\\\Bio.txt','a') as File3:\n",
    "    File3.write('\\nHi\\nMy Name is Pouya Shojaei!\\nI am a Ph.D. candidate in Mechanical Engineering at UNLV.\\nI am going to graduate in Fall 2021.\\nI would like to get a job as a Data Scientist in NASA, Apple, Amazon, or Facebook.')\n",
    "File3.closed\n",
    "    #print(file3_stuff)\n",
    "#print(File3)"
   ]
  },
  {
   "cell_type": "code",
   "execution_count": 61,
   "metadata": {},
   "outputs": [],
   "source": [
    "with open('C:\\\\Users\\\\pouya\\\\Coursera\\\\Python for Data Science, AI & Development\\\\Week 4\\\\Bio.txt','r') as File1:\n",
    "    file_stuff = File1.read()"
   ]
  },
  {
   "cell_type": "code",
   "execution_count": 62,
   "metadata": {},
   "outputs": [
    {
     "name": "stdout",
     "output_type": "stream",
     "text": [
      "This was a brief introduction about me!\n",
      "Hi\n",
      "My Name is Pouya Shojaei!\n",
      "I am a Ph.D. candidate in Mechanical Engineering at UNLV.\n",
      "I am going to graduate in Fall 2021.\n",
      "I would like to get a job as a Data Scientist in NASA, Apple, Amazon, or Facebook.\n"
     ]
    }
   ],
   "source": [
    "print(file_stuff)"
   ]
  },
  {
   "cell_type": "code",
   "execution_count": 63,
   "metadata": {},
   "outputs": [
    {
     "data": {
      "text/plain": [
       "'C:\\\\Users\\\\pouya\\\\Coursera\\\\Python for Data Science, AI & Development\\\\Week 4\\\\Bio.txt'"
      ]
     },
     "execution_count": 63,
     "metadata": {},
     "output_type": "execute_result"
    }
   ],
   "source": [
    "File1.name"
   ]
  },
  {
   "cell_type": "code",
   "execution_count": 64,
   "metadata": {},
   "outputs": [
    {
     "data": {
      "text/plain": [
       "'r'"
      ]
     },
     "execution_count": 64,
     "metadata": {},
     "output_type": "execute_result"
    }
   ],
   "source": [
    "File1.mode"
   ]
  },
  {
   "cell_type": "code",
   "execution_count": 66,
   "metadata": {},
   "outputs": [
    {
     "data": {
      "text/plain": [
       "246"
      ]
     },
     "execution_count": 66,
     "metadata": {},
     "output_type": "execute_result"
    }
   ],
   "source": [
    "len(file_stuff)"
   ]
  },
  {
   "cell_type": "code",
   "execution_count": 67,
   "metadata": {},
   "outputs": [
    {
     "data": {
      "text/plain": [
       "'r'"
      ]
     },
     "execution_count": 67,
     "metadata": {},
     "output_type": "execute_result"
    }
   ],
   "source": [
    "file_stuff[12]"
   ]
  },
  {
   "cell_type": "code",
   "execution_count": 72,
   "metadata": {},
   "outputs": [
    {
     "data": {
      "text/plain": [
       "['This',\n",
       " 'was',\n",
       " 'a',\n",
       " 'brief',\n",
       " 'introduction',\n",
       " 'about',\n",
       " 'me!\\nHi\\nMy',\n",
       " 'Name',\n",
       " 'is',\n",
       " 'Pouya',\n",
       " 'Shojaei!\\nI',\n",
       " 'am',\n",
       " 'a',\n",
       " 'Ph.D.',\n",
       " 'candidate',\n",
       " 'in',\n",
       " 'Mechanical',\n",
       " 'Engineering',\n",
       " 'at',\n",
       " 'UNLV.\\nI',\n",
       " 'am',\n",
       " 'going',\n",
       " 'to',\n",
       " 'graduate',\n",
       " 'in',\n",
       " 'Fall',\n",
       " '2021.\\nI',\n",
       " 'would',\n",
       " 'like',\n",
       " 'to',\n",
       " 'get',\n",
       " 'a',\n",
       " 'job',\n",
       " 'as',\n",
       " 'a',\n",
       " 'Data',\n",
       " 'Scientist',\n",
       " 'in',\n",
       " 'NASA,',\n",
       " 'Apple,',\n",
       " 'Amazon,',\n",
       " 'or',\n",
       " 'Facebook.']"
      ]
     },
     "execution_count": 72,
     "metadata": {},
     "output_type": "execute_result"
    }
   ],
   "source": [
    "a = file_stuff.split(' ')\n",
    "a"
   ]
  },
  {
   "cell_type": "code",
   "execution_count": 87,
   "metadata": {},
   "outputs": [
    {
     "name": "stdout",
     "output_type": "stream",
     "text": [
      "This\n",
      "was\n",
      "a\n",
      "brief\n",
      "introduction\n",
      "about\n",
      "me!\n",
      "Hi\n",
      "My\n",
      "Name\n",
      "is\n",
      "Pouya\n",
      "Shojaei!\n",
      "I\n",
      "am\n",
      "a\n",
      "Ph.D.\n",
      "candidate\n",
      "in\n",
      "Mechanical\n",
      "Engineering\n",
      "at\n",
      "UNLV.\n",
      "I\n",
      "am\n",
      "going\n",
      "to\n",
      "graduate\n",
      "in\n",
      "Fall\n",
      "2021.\n",
      "I\n",
      "would\n",
      "like\n",
      "to\n",
      "get\n",
      "a\n",
      "job\n",
      "as\n",
      "a\n",
      "Data\n",
      "Scientist\n",
      "in\n",
      "NASA,\n",
      "Apple,\n",
      "Amazon,\n",
      "or\n",
      "Facebook.\n"
     ]
    }
   ],
   "source": [
    "for i in (a):\n",
    "        print(i)"
   ]
  },
  {
   "cell_type": "code",
   "execution_count": 88,
   "metadata": {},
   "outputs": [
    {
     "data": {
      "text/plain": [
       "43"
      ]
     },
     "execution_count": 88,
     "metadata": {},
     "output_type": "execute_result"
    }
   ],
   "source": [
    "len(a)"
   ]
  },
  {
   "cell_type": "code",
   "execution_count": 89,
   "metadata": {},
   "outputs": [
    {
     "name": "stdout",
     "output_type": "stream",
     "text": [
      "['This', 'was', 'a', 'brief', 'introduction', 'about', 'me!\\nHi\\nMy', 'Name', 'is', 'Pouya', 'Shojaei!\\nI', 'am', 'a', 'Ph.D.', 'candidate', 'in', 'Mechanical', 'Engineering', 'at', 'UNLV.\\nI', 'am', 'going', 'to', 'graduate', 'in', 'Fall', '2021.\\nI', 'would', 'like', 'to', 'get', 'a', 'job', 'as', 'a', 'Data', 'Scientist', 'in', 'NASA,', 'Apple,', 'Amazon,', 'or', 'Facebook.']\n"
     ]
    }
   ],
   "source": [
    "print(a)"
   ]
  },
  {
   "cell_type": "code",
   "execution_count": 99,
   "metadata": {},
   "outputs": [
    {
     "data": {
      "text/plain": [
       "'2021.\\nI'"
      ]
     },
     "execution_count": 99,
     "metadata": {},
     "output_type": "execute_result"
    }
   ],
   "source": [
    "a[26]"
   ]
  },
  {
   "cell_type": "code",
   "execution_count": 100,
   "metadata": {},
   "outputs": [
    {
     "data": {
      "text/plain": [
       "'This was a brief introduction about me!\\nHi\\nMy Name is Pouya Shojaei!\\nI am a Ph.D. candidate in Mechanical Engineering at UNLV.\\nI am going to graduate in Fall 2021.\\nI would like to get a job as a Data Scientist in NASA, Apple, Amazon, or Facebook.'"
      ]
     },
     "execution_count": 100,
     "metadata": {},
     "output_type": "execute_result"
    }
   ],
   "source": [
    "file_stuff"
   ]
  },
  {
   "cell_type": "code",
   "execution_count": 101,
   "metadata": {},
   "outputs": [
    {
     "data": {
      "text/plain": [
       "246"
      ]
     },
     "execution_count": 101,
     "metadata": {},
     "output_type": "execute_result"
    }
   ],
   "source": [
    "len(file_stuff)"
   ]
  },
  {
   "cell_type": "code",
   "execution_count": 102,
   "metadata": {},
   "outputs": [
    {
     "data": {
      "text/plain": [
       "39"
      ]
     },
     "execution_count": 102,
     "metadata": {},
     "output_type": "execute_result"
    }
   ],
   "source": [
    "file_stuff.find('\\n')"
   ]
  },
  {
   "cell_type": "code",
   "execution_count": 112,
   "metadata": {},
   "outputs": [
    {
     "data": {
      "text/plain": [
       "'\\n'"
      ]
     },
     "execution_count": 112,
     "metadata": {},
     "output_type": "execute_result"
    }
   ],
   "source": [
    "file_stuff[39]"
   ]
  },
  {
   "cell_type": "code",
   "execution_count": 109,
   "metadata": {},
   "outputs": [],
   "source": [
    "New_file_stuff =file_stuff[40:]"
   ]
  },
  {
   "cell_type": "code",
   "execution_count": 113,
   "metadata": {},
   "outputs": [
    {
     "data": {
      "text/plain": [
       "'Hi\\nMy Name is Pouya Shojaei!\\nI am a Ph.D. candidate in Mechanical Engineering at UNLV.\\nI am going to graduate in Fall 2021.\\nI would like to get a job as a Data Scientist in NASA, Apple, Amazon, or Facebook.'"
      ]
     },
     "execution_count": 113,
     "metadata": {},
     "output_type": "execute_result"
    }
   ],
   "source": [
    "New_file_stuff"
   ]
  },
  {
   "cell_type": "code",
   "execution_count": 119,
   "metadata": {},
   "outputs": [
    {
     "name": "stdout",
     "output_type": "stream",
     "text": [
      "Hi!\n",
      "\n",
      "My Name is Pouya Shojaei!\n",
      "\n",
      "I am a Ph.D. candidate in Mechanical Engineering at UNLV.\n",
      "\n",
      "I am going to graduate in Fall 2021.\n",
      "\n",
      "I would like to get a job as a Data Scientist in NASA, Apple, Amazon, or Facebook.\n"
     ]
    }
   ],
   "source": [
    "with open('C:\\\\Users\\\\pouya\\\\Coursera\\\\Python for Data Science, AI & Development\\\\Week 4\\\\Bio.txt','r') as File1:\n",
    "    for line in File1:\n",
    "        print(line)"
   ]
  },
  {
   "cell_type": "code",
   "execution_count": 121,
   "metadata": {},
   "outputs": [
    {
     "data": {
      "text/plain": [
       "'C:\\\\Users\\\\pouya\\\\Coursera\\\\Python for Data Science, AI & Development\\\\Week 4\\\\Bio.txt'"
      ]
     },
     "execution_count": 121,
     "metadata": {},
     "output_type": "execute_result"
    }
   ],
   "source": [
    "File1.name"
   ]
  },
  {
   "cell_type": "code",
   "execution_count": 127,
   "metadata": {},
   "outputs": [
    {
     "name": "stdout",
     "output_type": "stream",
     "text": [
      "Hi!\n",
      "\n",
      "My Name is Pouya Shojaei!\n",
      "\n",
      "I am a Ph.D. candidate in Mechanical Engineering at UNLV.\n",
      "\n"
     ]
    }
   ],
   "source": [
    "with open('C:\\\\Users\\\\pouya\\\\Coursera\\\\Python for Data Science, AI & Development\\\\Week 4\\\\Bio.txt','r') as File1:\n",
    "    file_stuff = File1.readline()\n",
    "    print(file_stuff)\n",
    "    file_stuff = File1.readline()\n",
    "    print(file_stuff)\n",
    "    file_stuff = File1.readline()\n",
    "    print(file_stuff)"
   ]
  },
  {
   "cell_type": "code",
   "execution_count": 128,
   "metadata": {},
   "outputs": [
    {
     "data": {
      "text/plain": [
       "'a'"
      ]
     },
     "execution_count": 128,
     "metadata": {},
     "output_type": "execute_result"
    }
   ],
   "source": [
    "file_stuff[2]"
   ]
  },
  {
   "cell_type": "code",
   "execution_count": 129,
   "metadata": {},
   "outputs": [
    {
     "data": {
      "text/plain": [
       "'I am a Ph.D. candidate in Mechanical Engineering at UNLV.\\n'"
      ]
     },
     "execution_count": 129,
     "metadata": {},
     "output_type": "execute_result"
    }
   ],
   "source": [
    "file_stuff"
   ]
  },
  {
   "cell_type": "code",
   "execution_count": 132,
   "metadata": {},
   "outputs": [
    {
     "data": {
      "text/plain": [
       "'a'"
      ]
     },
     "execution_count": 132,
     "metadata": {},
     "output_type": "execute_result"
    }
   ],
   "source": [
    "file_stuff[2]"
   ]
  },
  {
   "cell_type": "code",
   "execution_count": 133,
   "metadata": {},
   "outputs": [
    {
     "name": "stdout",
     "output_type": "stream",
     "text": [
      "['Hi!\\n', 'My Name is Pouya Shojaei!\\n', 'I am a Ph.D. candidate in Mechanical Engineering at UNLV.\\n', 'I am going to graduate in Fall 2021.\\n', 'I would like to get a job as a Data Scientist in NASA, Apple, Amazon, or Facebook.']\n"
     ]
    }
   ],
   "source": [
    "with open('C:\\\\Users\\\\pouya\\\\Coursera\\\\Python for Data Science, AI & Development\\\\Week 4\\\\Bio.txt','r') as File1:\n",
    "    file_stuff = File1.readlines()\n",
    "print(file_stuff)"
   ]
  },
  {
   "cell_type": "code",
   "execution_count": 135,
   "metadata": {},
   "outputs": [
    {
     "data": {
      "text/plain": [
       "'My Name is Pouya Shojaei!\\n'"
      ]
     },
     "execution_count": 135,
     "metadata": {},
     "output_type": "execute_result"
    }
   ],
   "source": [
    "file_stuff[1]"
   ]
  },
  {
   "cell_type": "code",
   "execution_count": 140,
   "metadata": {},
   "outputs": [],
   "source": [
    "with open('C:\\\\Users\\\\pouya\\\\Coursera\\\\Python for Data Science, AI & Development\\\\Week 4\\\\Bio.txt','r') as File1:\n",
    "    file_stuff = File1.readlines(16)"
   ]
  },
  {
   "cell_type": "code",
   "execution_count": 141,
   "metadata": {},
   "outputs": [
    {
     "data": {
      "text/plain": [
       "['Hi!\\n', 'My Name is Pouya Shojaei!\\n']"
      ]
     },
     "execution_count": 141,
     "metadata": {},
     "output_type": "execute_result"
    }
   ],
   "source": [
    "file_stuff"
   ]
  },
  {
   "cell_type": "code",
   "execution_count": 143,
   "metadata": {},
   "outputs": [
    {
     "name": "stdout",
     "output_type": "stream",
     "text": [
      "['Hi!\\n', 'My Name is Pouya Shojaei!\\n', 'I am a Ph.D. candidate in Mechanical Engineering at UNLV.\\n', 'I am going to graduate in Fall 2021.\\n', 'I would like to get a job as a Data Scientist in NASA, Apple, Amazon, or Facebook.']\n"
     ]
    }
   ],
   "source": [
    "with open('C:\\\\Users\\\\pouya\\\\Coursera\\\\Python for Data Science, AI & Development\\\\Week 4\\\\Bio.txt','r') as File2:\n",
    "    file_stuff2 = File2.readlines()\n",
    "    print(file_stuff2)"
   ]
  },
  {
   "cell_type": "code",
   "execution_count": null,
   "metadata": {},
   "outputs": [],
   "source": []
  }
 ],
 "metadata": {
  "kernelspec": {
   "display_name": "Python 3",
   "language": "python",
   "name": "python3"
  },
  "language_info": {
   "codemirror_mode": {
    "name": "ipython",
    "version": 3
   },
   "file_extension": ".py",
   "mimetype": "text/x-python",
   "name": "python",
   "nbconvert_exporter": "python",
   "pygments_lexer": "ipython3",
   "version": "3.8.3"
  }
 },
 "nbformat": 4,
 "nbformat_minor": 4
}
